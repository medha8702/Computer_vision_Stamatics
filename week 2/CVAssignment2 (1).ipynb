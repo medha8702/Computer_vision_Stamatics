{
  "nbformat": 4,
  "nbformat_minor": 0,
  "metadata": {
    "colab": {
      "provenance": []
    },
    "kernelspec": {
      "name": "python3",
      "display_name": "Python 3"
    },
    "language_info": {
      "name": "python"
    }
  },
  "cells": [
    {
      "cell_type": "code",
      "execution_count": null,
      "metadata": {
        "id": "EVSE_lcGwgoT"
      },
      "outputs": [],
      "source": [
        "import cv2\n",
        "import numpy as np\n",
        "import matplotlib.pyplot as plt"
      ]
    },
    {
      "cell_type": "code",
      "source": [
        "dot_radius=25\n",
        "image_height=300\n",
        "image_width=500\n",
        "black_pixel=0\n",
        "white_pixel=255"
      ],
      "metadata": {
        "id": "_48aS9GUxOjH"
      },
      "execution_count": null,
      "outputs": []
    },
    {
      "cell_type": "code",
      "source": [
        "input_roll=input(\"Enter a 6 digit number :\")\n",
        "last_2_dig=input_roll[-2:]"
      ],
      "metadata": {
        "colab": {
          "base_uri": "https://localhost:8080/"
        },
        "id": "Ljq3s6SnxeX5",
        "outputId": "cbee1f91-f1c7-4b36-b458-520a53898cd7"
      },
      "execution_count": null,
      "outputs": [
        {
          "name": "stdout",
          "output_type": "stream",
          "text": [
            "Enter a 6 digit number :234568\n"
          ]
        }
      ]
    },
    {
      "cell_type": "code",
      "source": [
        "print(last_2_dig)"
      ],
      "metadata": {
        "colab": {
          "base_uri": "https://localhost:8080/"
        },
        "id": "UIRVi3XH03BX",
        "outputId": "f3e7736e-9496-4fda-f4fe-35f5b1b84a7e"
      },
      "execution_count": null,
      "outputs": [
        {
          "output_type": "stream",
          "name": "stdout",
          "text": [
            "68\n"
          ]
        }
      ]
    },
    {
      "cell_type": "code",
      "source": [
        "dot_matrix_image=np.full((image_height,image_width),white_pixel,dtype=np.uint8)\n"
      ],
      "metadata": {
        "id": "_MEVCejKyAu-"
      },
      "execution_count": null,
      "outputs": []
    },
    {
      "cell_type": "code",
      "source": [
        "plt.imshow(dot_matrix_image, cmap='gray')"
      ],
      "metadata": {
        "colab": {
          "base_uri": "https://localhost:8080/",
          "height": 380
        },
        "id": "doxx_Qnu1LDk",
        "outputId": "eafb2f5b-3ae8-4b10-a7f5-89db59e87b5d"
      },
      "execution_count": null,
      "outputs": [
        {
          "output_type": "execute_result",
          "data": {
            "text/plain": [
              "<matplotlib.image.AxesImage at 0x7f0a76dd94b0>"
            ]
          },
          "metadata": {},
          "execution_count": 83
        },
        {
          "output_type": "display_data",
          "data": {
            "text/plain": [
              "<Figure size 640x480 with 1 Axes>"
            ],
            "image/png": "[encoded data removed]"
          },
          "metadata": {}
        }
      ]
    },
    {
      "cell_type": "code",
      "source": [
        "dot_matrix_patterns = {\n",
        "    '0': [(1, 1, 1), (1, 0, 1), (1, 0, 1), (1, 0, 1), (1, 1, 1)],\n",
        "    '1': [(0, 0, 1), (0, 0, 1), (0, 0, 1), (0, 0, 1), (0, 0, 1)],\n",
        "    '2': [(1, 1, 1), (0, 0, 1), (1, 1, 1), (1, 0, 0), (1, 1, 1)],\n",
        "    '3': [(1, 1, 1), (0, 0, 1), (1, 1, 1), (0, 0, 1), (1, 1, 1)],\n",
        "    '4': [(1, 0, 1), (1, 0, 1), (1, 1, 1), (0, 0, 1), (0, 0, 1)],\n",
        "    '5': [(1, 1, 1), (1, 0, 0), (1, 1, 1), (0, 0, 1), (1, 1, 1)],\n",
        "    '6': [(1, 1, 1), (1, 0, 0), (1, 1, 1), (1, 0, 1), (1, 1, 1)],\n",
        "    '7': [(1, 1, 1), (0, 0, 1), (0, 0, 1), (0, 0, 1), (0, 0, 1)],\n",
        "    '8': [(1, 1, 1), (1, 0, 1), (1, 1, 1), (1, 0, 1), (1, 1, 1)],\n",
        "    '9': [(1, 1, 1), (1, 0, 1), (1, 1, 1), (0, 0, 1), (1, 1, 1)]\n",
        "}\n"
      ],
      "metadata": {
        "id": "cetfDZjsymUz"
      },
      "execution_count": null,
      "outputs": []
    },
    {
      "cell_type": "code",
      "source": [
        "\n",
        "# Calculate the horizontal starting position to center the digits\n",
        "start_x =50\n",
        "\n",
        "# Calculate the vertical starting position to center the digits\n",
        "start_y =25\n",
        "\n",
        "# Define the space between the digits\n",
        "digit_space = 4*dot_radius\n",
        "\n",
        "# Draw the dot matrix representation of each digit\n",
        "for i, digit in enumerate(last_2_dig):\n",
        "    pattern = dot_matrix_patterns[digit]\n",
        "    dig_start_x=start_x+ i*(8)*dot_radius\n",
        "    \n",
        "    \n",
        "    for row in range(5):\n",
        "        for col in range(3):\n",
        "            if pattern[row][col] == 1:\n",
        "                center_x = dig_start_x + (col +1) * dot_radius*2\n",
        "                center_y = start_y + (row + 1) * dot_radius*2\n",
        "                cv2.circle(dot_matrix_image, (center_x, center_y), dot_radius, black_pixel, -1)\n",
        "\n"
      ],
      "metadata": {
        "id": "g4EjgVh2y4MG"
      },
      "execution_count": null,
      "outputs": []
    },
    {
      "cell_type": "code",
      "source": [
        "plt.imshow(dot_matrix_image, cmap='gray')\n",
        "plt.axis('off')\n",
        "plt.show()\n",
        "\n",
        "cv2.imwrite(\"dot_matrix.png\", dot_matrix_image)\n"
      ],
      "metadata": {
        "colab": {
          "base_uri": "https://localhost:8080/",
          "height": 351
        },
        "id": "12sGajE0zGoF",
        "outputId": "fcb72cf5-0de9-4ed4-a5e9-ee18db86e2cd"
      },
      "execution_count": null,
      "outputs": [
        {
          "output_type": "display_data",
          "data": {
            "text/plain": [
              "<Figure size 640x480 with 1 Axes>"
            ],
            "image/png": "[encoded data removed]"
          },
          "metadata": {}
        },
        {
          "output_type": "execute_result",
          "data": {
            "text/plain": [
              "True"
            ]
          },
          "metadata": {},
          "execution_count": 86
        }
      ]
    },
    {
      "cell_type": "code",
      "source": [],
      "metadata": {
        "id": "ajjM4KvPzRC-"
      },
      "execution_count": null,
      "outputs": []
    }
  ]
}